{
  "nbformat": 4,
  "nbformat_minor": 0,
  "metadata": {
    "colab": {
      "provenance": []
    },
    "kernelspec": {
      "name": "python3",
      "display_name": "Python 3"
    },
    "language_info": {
      "name": "python"
    },
    "gpuClass": "standard"
  },
  "cells": [
    {
      "cell_type": "code",
      "source": [
        "# mount the drive\n",
        "from google.colab import drive\n",
        "drive.mount('/content/drive')"
      ],
      "metadata": {
        "id": "uNflOCUIBkoS",
        "colab": {
          "base_uri": "https://localhost:8080/"
        },
        "outputId": "7943f2f9-671e-4ff8-b60a-1558c80ac7d0"
      },
      "execution_count": null,
      "outputs": [
        {
          "output_type": "stream",
          "name": "stdout",
          "text": [
            "Mounted at /content/drive\n"
          ]
        }
      ]
    },
    {
      "cell_type": "code",
      "source": [
        "# download dataset from kaggle\n",
        "# ! pip install -q kaggle\n",
        "# ! mkdir ~/.kaggle\n",
        "# ! cp kaggle.json ~/.kaggle/\n",
        "# ! chmod 600 ~/.kaggle/kaggle.json\n",
        "# ! kaggle competitions download -c new-york-city-taxi-fare-prediction"
      ],
      "metadata": {
        "id": "rOQG4ZmxLAis"
      },
      "execution_count": null,
      "outputs": []
    },
    {
      "cell_type": "code",
      "source": [
        "# unzip the data\n",
        "# !unzip \"/content/new-york-city-taxi-fare-prediction.zip\" -d \"/content/drive/MyDrive/15-07-2022\""
      ],
      "metadata": {
        "id": "zeOWxRArLAlC"
      },
      "execution_count": null,
      "outputs": []
    },
    {
      "cell_type": "code",
      "source": [
        "# install the pyspark\n",
        "!pip install pyspark\n",
        "!pip install -U -q PyDrive\n",
        "!apt install openjdk-8-jdk-headless -qq"
      ],
      "metadata": {
        "colab": {
          "base_uri": "https://localhost:8080/"
        },
        "id": "Emw56p2rBuQa",
        "outputId": "25f9d5a3-2f85-4cb3-e241-6f24eb855c63"
      },
      "execution_count": null,
      "outputs": [
        {
          "output_type": "stream",
          "name": "stdout",
          "text": [
            "Looking in indexes: https://pypi.org/simple, https://us-python.pkg.dev/colab-wheels/public/simple/\n",
            "Collecting pyspark\n",
            "  Downloading pyspark-3.3.0.tar.gz (281.3 MB)\n",
            "\u001b[K     |████████████████████████████████| 281.3 MB 36 kB/s \n",
            "\u001b[?25hCollecting py4j==0.10.9.5\n",
            "  Downloading py4j-0.10.9.5-py2.py3-none-any.whl (199 kB)\n",
            "\u001b[K     |████████████████████████████████| 199 kB 61.9 MB/s \n",
            "\u001b[?25hBuilding wheels for collected packages: pyspark\n",
            "  Building wheel for pyspark (setup.py) ... \u001b[?25l\u001b[?25hdone\n",
            "  Created wheel for pyspark: filename=pyspark-3.3.0-py2.py3-none-any.whl size=281764026 sha256=0715961355c15f357f0936a53b9cfd8e32337f2c7cee3933e4fe8d3b76974d3e\n",
            "  Stored in directory: /root/.cache/pip/wheels/7a/8e/1b/f73a52650d2e5f337708d9f6a1750d451a7349a867f928b885\n",
            "Successfully built pyspark\n",
            "Installing collected packages: py4j, pyspark\n",
            "Successfully installed py4j-0.10.9.5 pyspark-3.3.0\n",
            "The following package was automatically installed and is no longer required:\n",
            "  libnvidia-common-460\n",
            "Use 'apt autoremove' to remove it.\n",
            "The following additional packages will be installed:\n",
            "  openjdk-8-jre-headless\n",
            "Suggested packages:\n",
            "  openjdk-8-demo openjdk-8-source libnss-mdns fonts-dejavu-extra\n",
            "  fonts-ipafont-gothic fonts-ipafont-mincho fonts-wqy-microhei\n",
            "  fonts-wqy-zenhei fonts-indic\n",
            "The following NEW packages will be installed:\n",
            "  openjdk-8-jdk-headless openjdk-8-jre-headless\n",
            "0 upgraded, 2 newly installed, 0 to remove and 49 not upgraded.\n",
            "Need to get 36.5 MB of archives.\n",
            "After this operation, 143 MB of additional disk space will be used.\n",
            "Selecting previously unselected package openjdk-8-jre-headless:amd64.\n",
            "(Reading database ... 155653 files and directories currently installed.)\n",
            "Preparing to unpack .../openjdk-8-jre-headless_8u312-b07-0ubuntu1~18.04_amd64.deb ...\n",
            "Unpacking openjdk-8-jre-headless:amd64 (8u312-b07-0ubuntu1~18.04) ...\n",
            "Selecting previously unselected package openjdk-8-jdk-headless:amd64.\n",
            "Preparing to unpack .../openjdk-8-jdk-headless_8u312-b07-0ubuntu1~18.04_amd64.deb ...\n",
            "Unpacking openjdk-8-jdk-headless:amd64 (8u312-b07-0ubuntu1~18.04) ...\n",
            "Setting up openjdk-8-jre-headless:amd64 (8u312-b07-0ubuntu1~18.04) ...\n",
            "update-alternatives: using /usr/lib/jvm/java-8-openjdk-amd64/jre/bin/orbd to provide /usr/bin/orbd (orbd) in auto mode\n",
            "update-alternatives: using /usr/lib/jvm/java-8-openjdk-amd64/jre/bin/servertool to provide /usr/bin/servertool (servertool) in auto mode\n",
            "update-alternatives: using /usr/lib/jvm/java-8-openjdk-amd64/jre/bin/tnameserv to provide /usr/bin/tnameserv (tnameserv) in auto mode\n",
            "Setting up openjdk-8-jdk-headless:amd64 (8u312-b07-0ubuntu1~18.04) ...\n",
            "update-alternatives: using /usr/lib/jvm/java-8-openjdk-amd64/bin/idlj to provide /usr/bin/idlj (idlj) in auto mode\n",
            "update-alternatives: using /usr/lib/jvm/java-8-openjdk-amd64/bin/wsimport to provide /usr/bin/wsimport (wsimport) in auto mode\n",
            "update-alternatives: using /usr/lib/jvm/java-8-openjdk-amd64/bin/jsadebugd to provide /usr/bin/jsadebugd (jsadebugd) in auto mode\n",
            "update-alternatives: using /usr/lib/jvm/java-8-openjdk-amd64/bin/native2ascii to provide /usr/bin/native2ascii (native2ascii) in auto mode\n",
            "update-alternatives: using /usr/lib/jvm/java-8-openjdk-amd64/bin/javah to provide /usr/bin/javah (javah) in auto mode\n",
            "update-alternatives: using /usr/lib/jvm/java-8-openjdk-amd64/bin/hsdb to provide /usr/bin/hsdb (hsdb) in auto mode\n",
            "update-alternatives: using /usr/lib/jvm/java-8-openjdk-amd64/bin/clhsdb to provide /usr/bin/clhsdb (clhsdb) in auto mode\n",
            "update-alternatives: using /usr/lib/jvm/java-8-openjdk-amd64/bin/xjc to provide /usr/bin/xjc (xjc) in auto mode\n",
            "update-alternatives: using /usr/lib/jvm/java-8-openjdk-amd64/bin/schemagen to provide /usr/bin/schemagen (schemagen) in auto mode\n",
            "update-alternatives: using /usr/lib/jvm/java-8-openjdk-amd64/bin/extcheck to provide /usr/bin/extcheck (extcheck) in auto mode\n",
            "update-alternatives: using /usr/lib/jvm/java-8-openjdk-amd64/bin/jhat to provide /usr/bin/jhat (jhat) in auto mode\n",
            "update-alternatives: using /usr/lib/jvm/java-8-openjdk-amd64/bin/wsgen to provide /usr/bin/wsgen (wsgen) in auto mode\n"
          ]
        }
      ]
    },
    {
      "cell_type": "code",
      "source": [
        "# import the libraries\n",
        "import pandas as pd\n",
        "import numpy as np\n",
        "import matplotlib.pyplot as plt\n",
        "%matplotlib inline\n",
        "import seaborn as sns\n",
        "import pyspark\n",
        "import pyspark.sql.functions as F\n",
        "from pyspark.sql import *\n",
        "from pyspark.sql.functions import *\n",
        "from pyspark import SparkContext, SparkConf\n",
        "from pyspark.ml import Pipeline\n",
        "from pyspark.sql.functions import *\n",
        "from pyspark.sql import functions as f, udf\n",
        "from pyspark.sql.window import Window\n",
        "from pyspark.sql.functions import col\n",
        "from pyspark.sql.functions import col,isnan, when, count\n",
        "from pyspark.ml.feature import VectorAssembler\n",
        "from pyspark.ml.regression import LinearRegression\n",
        "from pyspark.ml.regression import RandomForestRegressor\n",
        "from pyspark.ml.evaluation import RegressionEvaluator\n",
        "from pyspark.mllib.regression import LabeledPoint\n",
        "from pyspark.ml.regression import DecisionTreeRegressor"
      ],
      "metadata": {
        "id": "OwHHN659BwXK"
      },
      "execution_count": null,
      "outputs": []
    },
    {
      "cell_type": "code",
      "source": [
        "# create the session\n",
        "conf = pyspark.SparkConf()\n",
        "# create the context\n",
        "sc = pyspark.SparkContext.getOrCreate(conf=conf)\n",
        "sqlcontext = SQLContext(sc)\n",
        "spark = SparkSession.builder.getOrCreate()"
      ],
      "metadata": {
        "colab": {
          "base_uri": "https://localhost:8080/"
        },
        "id": "EAUgkVJLBxOT",
        "outputId": "281c840c-494c-4d6c-e09a-526f782e08a7"
      },
      "execution_count": null,
      "outputs": [
        {
          "output_type": "stream",
          "name": "stderr",
          "text": [
            "/usr/local/lib/python3.7/dist-packages/pyspark/sql/context.py:114: FutureWarning: Deprecated in 3.0.0. Use SparkSession.builder.getOrCreate() instead.\n",
            "  FutureWarning,\n"
          ]
        }
      ]
    },
    {
      "cell_type": "code",
      "source": [
        "# read the data and display\n",
        "data = spark.read.csv('/content/drive/MyDrive/15-07-2022/train.csv',header='true')\n",
        "data.show(5)"
      ],
      "metadata": {
        "colab": {
          "base_uri": "https://localhost:8080/"
        },
        "id": "RkkYk0dTRu8_",
        "outputId": "15ee89a3-28a3-4bb3-f08b-cb8a76e11977"
      },
      "execution_count": null,
      "outputs": [
        {
          "output_type": "stream",
          "name": "stdout",
          "text": [
            "+--------------------+-----------+--------------------+----------------+---------------+-----------------+----------------+---------------+\n",
            "|                 key|fare_amount|     pickup_datetime|pickup_longitude|pickup_latitude|dropoff_longitude|dropoff_latitude|passenger_count|\n",
            "+--------------------+-----------+--------------------+----------------+---------------+-----------------+----------------+---------------+\n",
            "|2009-06-15 17:26:...|        4.5|2009-06-15 17:26:...|      -73.844311|      40.721319|        -73.84161|       40.712278|              1|\n",
            "|2010-01-05 16:52:...|       16.9|2010-01-05 16:52:...|      -74.016048|      40.711303|       -73.979268|       40.782004|              1|\n",
            "|2011-08-18 00:35:...|        5.7|2011-08-18 00:35:...|      -73.982738|       40.76127|       -73.991242|       40.750562|              2|\n",
            "|2012-04-21 04:30:...|        7.7|2012-04-21 04:30:...|       -73.98713|      40.733143|       -73.991567|       40.758092|              1|\n",
            "|2010-03-09 07:51:...|        5.3|2010-03-09 07:51:...|      -73.968095|      40.768008|       -73.956655|       40.783762|              1|\n",
            "+--------------------+-----------+--------------------+----------------+---------------+-----------------+----------------+---------------+\n",
            "only showing top 5 rows\n",
            "\n"
          ]
        }
      ]
    },
    {
      "cell_type": "code",
      "source": [
        "# total number of rows\n",
        "data.count()"
      ],
      "metadata": {
        "colab": {
          "base_uri": "https://localhost:8080/"
        },
        "id": "rmbGFOhiSLSc",
        "outputId": "7a33ba69-6600-456e-d084-9786c574e45f"
      },
      "execution_count": null,
      "outputs": [
        {
          "output_type": "execute_result",
          "data": {
            "text/plain": [
              "55423856"
            ]
          },
          "metadata": {},
          "execution_count": 40
        }
      ]
    },
    {
      "cell_type": "code",
      "source": [
        "# columns and their datatype\n",
        "data.printSchema()"
      ],
      "metadata": {
        "colab": {
          "base_uri": "https://localhost:8080/"
        },
        "id": "paMJs6rxSMb4",
        "outputId": "c469a887-bd66-49f3-d3e4-8ddb30d51402"
      },
      "execution_count": null,
      "outputs": [
        {
          "output_type": "stream",
          "name": "stdout",
          "text": [
            "root\n",
            " |-- key: string (nullable = true)\n",
            " |-- fare_amount: string (nullable = true)\n",
            " |-- pickup_datetime: string (nullable = true)\n",
            " |-- pickup_longitude: string (nullable = true)\n",
            " |-- pickup_latitude: string (nullable = true)\n",
            " |-- dropoff_longitude: string (nullable = true)\n",
            " |-- dropoff_latitude: string (nullable = true)\n",
            " |-- passenger_count: string (nullable = true)\n",
            "\n"
          ]
        }
      ]
    },
    {
      "cell_type": "code",
      "source": [
        "# type casting the data\n",
        "# the data of these columns should be in double or integer to do the analysis\n",
        "# the date columns are not converted as they already in string and the default data type of date is string\n",
        "data=data.withColumn(\"fare_amount\",data.fare_amount.cast('double'))\n",
        "data=data.withColumn(\"pickup_longitude\",data.pickup_longitude.cast('double'))\n",
        "data=data.withColumn(\"pickup_latitude\",data.pickup_latitude.cast('double'))\n",
        "data=data.withColumn(\"dropoff_longitude\",data.dropoff_longitude.cast('double'))\n",
        "data=data.withColumn(\"dropoff_latitude\",data.dropoff_latitude.cast('double'))\n",
        "data=data.withColumn(\"passenger_count\",data.passenger_count.cast('integer'))"
      ],
      "metadata": {
        "id": "37LKL4P-lghy"
      },
      "execution_count": null,
      "outputs": []
    },
    {
      "cell_type": "code",
      "source": [
        "# columns and their datatype\n",
        "data.printSchema()"
      ],
      "metadata": {
        "colab": {
          "base_uri": "https://localhost:8080/"
        },
        "id": "3hGYjP5DmrCK",
        "outputId": "3de9e291-ac51-4d4a-fdf2-db808653faf9"
      },
      "execution_count": null,
      "outputs": [
        {
          "output_type": "stream",
          "name": "stdout",
          "text": [
            "root\n",
            " |-- key: string (nullable = true)\n",
            " |-- fare_amount: double (nullable = true)\n",
            " |-- pickup_datetime: string (nullable = true)\n",
            " |-- pickup_longitude: double (nullable = true)\n",
            " |-- pickup_latitude: double (nullable = true)\n",
            " |-- dropoff_longitude: double (nullable = true)\n",
            " |-- dropoff_latitude: double (nullable = true)\n",
            " |-- passenger_count: integer (nullable = true)\n",
            "\n"
          ]
        }
      ]
    },
    {
      "cell_type": "code",
      "source": [
        "# looking for statistical properties of dataset\n",
        "data.describe().show()"
      ],
      "metadata": {
        "colab": {
          "base_uri": "https://localhost:8080/"
        },
        "id": "GiPPzQSAUI3Q",
        "outputId": "869834be-3658-4489-f6a6-2999db1e0558"
      },
      "execution_count": null,
      "outputs": [
        {
          "output_type": "stream",
          "name": "stdout",
          "text": [
            "+-------+--------------------+------------------+--------------------+------------------+-----------------+------------------+------------------+------------------+\n",
            "|summary|                 key|       fare_amount|     pickup_datetime|  pickup_longitude|  pickup_latitude| dropoff_longitude|  dropoff_latitude|   passenger_count|\n",
            "+-------+--------------------+------------------+--------------------+------------------+-----------------+------------------+------------------+------------------+\n",
            "|  count|            55423856|          55423856|            55423856|          55423856|         55423856|          55423480|          55423480|          55423856|\n",
            "|   mean|                null|11.345045601663852|                null|-72.50968444358729| 39.9197917868882|-72.51120972971809|39.920681444828844|1.6853799201556816|\n",
            "| stddev|                null|  20.7108321982325|                null| 12.84888338140265|9.642353041994934|12.782196517830771| 9.633345796415124|1.3276643570959683|\n",
            "|    min|2009-01-01 00:00:...|            -300.0|2009-01-01 00:00:...|      -3442.059565|     -3492.263768|      -3442.024565|      -3547.886698|                 0|\n",
            "|    max|2015-06-30 23:59:...|          93963.36|2015-06-30 23:59:...|       3457.625683|      3408.789565|        3457.62235|       3537.132528|               208|\n",
            "+-------+--------------------+------------------+--------------------+------------------+-----------------+------------------+------------------+------------------+\n",
            "\n"
          ]
        }
      ]
    },
    {
      "cell_type": "code",
      "source": [
        "# select the fare amount column to look for statiscal properties\n",
        "data.select(\"fare_amount\").describe().show()"
      ],
      "metadata": {
        "colab": {
          "base_uri": "https://localhost:8080/"
        },
        "id": "dc6ckcHjdfZW",
        "outputId": "fef98131-9834-4a9b-9f72-a6da83dc6866"
      },
      "execution_count": null,
      "outputs": [
        {
          "output_type": "stream",
          "name": "stdout",
          "text": [
            "+-------+------------------+\n",
            "|summary|       fare_amount|\n",
            "+-------+------------------+\n",
            "|  count|          55423856|\n",
            "|   mean|11.345045601663852|\n",
            "| stddev|  20.7108321982325|\n",
            "|    min|             -0.01|\n",
            "|    max|            999.99|\n",
            "+-------+------------------+\n",
            "\n"
          ]
        }
      ]
    },
    {
      "cell_type": "code",
      "source": [
        "# as most of the data is around 20 se we remove the values less than 0 and greater than 100\n",
        "# in order to get rid of outliers\n",
        "data = data.filter((data.fare_amount  > 0)&(data.fare_amount  < 100))"
      ],
      "metadata": {
        "id": "RElDdU01i8z6"
      },
      "execution_count": null,
      "outputs": []
    },
    {
      "cell_type": "code",
      "source": [
        "# select the fare amount column to look for statiscal properties\n",
        "data.select(\"fare_amount\").describe().show()"
      ],
      "metadata": {
        "colab": {
          "base_uri": "https://localhost:8080/"
        },
        "id": "T6ubngBejnQr",
        "outputId": "f18dcedd-a8a7-493f-e4f5-e7491ab2eb7b"
      },
      "execution_count": null,
      "outputs": [
        {
          "output_type": "stream",
          "name": "stdout",
          "text": [
            "+-------+------------------+\n",
            "|summary|       fare_amount|\n",
            "+-------+------------------+\n",
            "|  count|          55397123|\n",
            "|   mean|11.289828684606057|\n",
            "| stddev| 9.395304238344748|\n",
            "|    min|              0.01|\n",
            "|    max|             99.99|\n",
            "+-------+------------------+\n",
            "\n"
          ]
        }
      ]
    },
    {
      "cell_type": "code",
      "source": [
        "# total number of rows\n",
        "data.count()"
      ],
      "metadata": {
        "colab": {
          "base_uri": "https://localhost:8080/"
        },
        "id": "CJdUUZ0Lo_uh",
        "outputId": "e5dc1a95-3fbe-4472-e9a2-2ba5553d217b"
      },
      "execution_count": null,
      "outputs": [
        {
          "output_type": "execute_result",
          "data": {
            "text/plain": [
              "55397123"
            ]
          },
          "metadata": {},
          "execution_count": 8
        }
      ]
    },
    {
      "cell_type": "code",
      "source": [
        "# Fare amount distribution\n",
        "hist = data.select('fare_amount').rdd.flatMap(lambda x: x).histogram(100)\n",
        "plt.figure(figsize=(22,6))\n",
        "sns.barplot(list(map(lambda x: int(x), hist[0][:-1])), hist[1])"
      ],
      "metadata": {
        "colab": {
          "base_uri": "https://localhost:8080/",
          "height": 459
        },
        "id": "WxbC5Nan12wu",
        "outputId": "f14b73fa-44b6-4d1e-b386-e601994251b2"
      },
      "execution_count": null,
      "outputs": [
        {
          "output_type": "stream",
          "name": "stderr",
          "text": [
            "/usr/local/lib/python3.7/dist-packages/seaborn/_decorators.py:43: FutureWarning: Pass the following variables as keyword args: x, y. From version 0.12, the only valid positional argument will be `data`, and passing other arguments without an explicit keyword will result in an error or misinterpretation.\n",
            "  FutureWarning\n"
          ]
        },
        {
          "output_type": "execute_result",
          "data": {
            "text/plain": [
              "<matplotlib.axes._subplots.AxesSubplot at 0x7f0ee5b75f10>"
            ]
          },
          "metadata": {},
          "execution_count": 10
        },
        {
          "output_type": "display_data",
          "data": {
            "text/plain": [
              "<Figure size 1584x432 with 1 Axes>"
            ],
            "image/png": "[encoded data removed]"
          },
          "metadata": {
            "needs_background": "light"
          }
        }
      ]
    },
    {
      "cell_type": "code",
      "source": [
        "# take only values for passeneger greaterr than 0\n",
        "data = data.filter(data['passenger_count']>0)"
      ],
      "metadata": {
        "id": "BeRCcBsvKihS"
      },
      "execution_count": null,
      "outputs": []
    },
    {
      "cell_type": "code",
      "source": [
        "# check for null values\n",
        "data.select([F.count(F.when(F.isnan(c),c)).alias(c) for c in data.columns]).show()"
      ],
      "metadata": {
        "colab": {
          "base_uri": "https://localhost:8080/"
        },
        "id": "vW3ypyWTyg7_",
        "outputId": "3bb2e4b5-771b-44f7-cbd1-e47a5cb80fb0"
      },
      "execution_count": null,
      "outputs": [
        {
          "output_type": "stream",
          "name": "stdout",
          "text": [
            "+---+-----------+---------------+----------------+---------------+-----------------+----------------+---------------+\n",
            "|key|fare_amount|pickup_datetime|pickup_longitude|pickup_latitude|dropoff_longitude|dropoff_latitude|passenger_count|\n",
            "+---+-----------+---------------+----------------+---------------+-----------------+----------------+---------------+\n",
            "|  0|          0|              0|               0|              0|                0|               0|              0|\n",
            "+---+-----------+---------------+----------------+---------------+-----------------+----------------+---------------+\n",
            "\n"
          ]
        }
      ]
    },
    {
      "cell_type": "code",
      "source": [
        "# calculate distance of trip using longitude and latitude value\n",
        "p = 0.017453292519943295\n",
        "data = data.withColumn('distance', 0.6213712*12742*F.asin((0.5-F.cos((data['dropoff_latitude']-data['pickup_latitude'])*p)/2 +\n",
        "                                      F.cos(data['pickup_latitude']*p) * F.cos(data['dropoff_latitude']*p) *\n",
        "                                     (1-F.cos((data['dropoff_longitude']-data['pickup_longitude'])*p))/2)**0.5))"
      ],
      "metadata": {
        "id": "nkNalaHI3CDF"
      },
      "execution_count": null,
      "outputs": []
    },
    {
      "cell_type": "code",
      "source": [
        "# display the data\n",
        "data.show(5)"
      ],
      "metadata": {
        "colab": {
          "base_uri": "https://localhost:8080/"
        },
        "id": "e7g4ASHBEodb",
        "outputId": "f05a90e7-8266-479d-811a-c2fc30ef9a6a"
      },
      "execution_count": null,
      "outputs": [
        {
          "output_type": "stream",
          "name": "stdout",
          "text": [
            "+--------------------+-----------+--------------------+----------------+---------------+-----------------+----------------+---------------+------------------+\n",
            "|                 key|fare_amount|     pickup_datetime|pickup_longitude|pickup_latitude|dropoff_longitude|dropoff_latitude|passenger_count|          distance|\n",
            "+--------------------+-----------+--------------------+----------------+---------------+-----------------+----------------+---------------+------------------+\n",
            "|2009-06-15 17:26:...|        4.5|2009-06-15 17:26:...|      -73.844311|      40.721319|        -73.84161|       40.712278|              1|0.6404870231407276|\n",
            "|2010-01-05 16:52:...|       16.9|2010-01-05 16:52:...|      -74.016048|      40.711303|       -73.979268|       40.782004|              1| 5.250669652366417|\n",
            "|2011-08-18 00:35:...|        5.7|2011-08-18 00:35:...|      -73.982738|       40.76127|       -73.991242|       40.750562|              2|0.8634109565058572|\n",
            "|2012-04-21 04:30:...|        7.7|2012-04-21 04:30:...|       -73.98713|      40.733143|       -73.991567|       40.758092|              1|1.7393859082192853|\n",
            "|2010-03-09 07:51:...|        5.3|2010-03-09 07:51:...|      -73.968095|      40.768008|       -73.956655|       40.783762|              1|1.2422184522938338|\n",
            "+--------------------+-----------+--------------------+----------------+---------------+-----------------+----------------+---------------+------------------+\n",
            "only showing top 5 rows\n",
            "\n"
          ]
        }
      ]
    },
    {
      "cell_type": "code",
      "source": [
        "# select the fare amount column to look for statiscal properties\n",
        "data.select(\"distance\").describe().show()"
      ],
      "metadata": {
        "colab": {
          "base_uri": "https://localhost:8080/"
        },
        "id": "QTEPOBQ7Dj7K",
        "outputId": "ac0b2e48-8a9d-4a07-f1f1-6a6b3e619b1f"
      },
      "execution_count": null,
      "outputs": [
        {
          "output_type": "stream",
          "name": "stdout",
          "text": [
            "+-------+------------------+\n",
            "|summary|          distance|\n",
            "+-------+------------------+\n",
            "|  count|          55396747|\n",
            "|   mean|  12.2688909857812|\n",
            "| stddev|229.85650118535455|\n",
            "|    min|               0.0|\n",
            "|    max| 12234.05363206257|\n",
            "+-------+------------------+\n",
            "\n"
          ]
        }
      ]
    },
    {
      "cell_type": "code",
      "source": [
        "# we remove the values less than 0 and greater than 150\n",
        "# in order to get rid of outliers\n",
        "data = data.filter((data.distance  > 0)&(data.distance  < 150))"
      ],
      "metadata": {
        "id": "P5u34H-X3CFt"
      },
      "execution_count": null,
      "outputs": []
    },
    {
      "cell_type": "code",
      "source": [
        "# total number of rows\n",
        "data.count()"
      ],
      "metadata": {
        "colab": {
          "base_uri": "https://localhost:8080/"
        },
        "id": "UnMEPQ_i3CIV",
        "outputId": "388dd93c-2000-4894-bbe7-96e82edcfb11"
      },
      "execution_count": null,
      "outputs": [
        {
          "output_type": "execute_result",
          "data": {
            "text/plain": [
              "53706168"
            ]
          },
          "metadata": {},
          "execution_count": 14
        }
      ]
    },
    {
      "cell_type": "code",
      "source": [
        "# direction of a trip from 180 to -180 degrees\n",
        "data = data.withColumn('d_lon', data['pickup_longitude'] - data['dropoff_longitude'] )\n",
        "data = data.withColumn('d_lat', data['pickup_latitude'] - data['dropoff_latitude'])\n",
        "data = data.withColumn('lon_lat', (data['d_lon']**2 + data['d_lat']**2)**0.5)\n",
        "data = data.withColumn('dev_ll', data['d_lat']/data['lon_lat'])"
      ],
      "metadata": {
        "id": "s-335_PRKicK"
      },
      "execution_count": null,
      "outputs": []
    },
    {
      "cell_type": "code",
      "source": [
        "g =  180/np.pi\n",
        "data = data.withColumn('direction', F.when(data['d_lon']>0, g*F.asin(data['dev_ll'])).\n",
        "                               when((data['d_lon']<0) & (data['d_lat']>0), 180-g*F.asin(data['dev_ll'])).\n",
        "                               when((data['d_lon']<0) & (data['d_lat']<0), -180 - g*F.asin(data['dev_ll'])).\n",
        "                               otherwise(0))"
      ],
      "metadata": {
        "id": "KKmFyXDPKiei"
      },
      "execution_count": null,
      "outputs": []
    },
    {
      "cell_type": "code",
      "source": [
        "data = data.withColumn('dayofweek', F.dayofweek(data['pickup_datetime']))\n",
        "data = data.withColumn('hour', F.hour(data['pickup_datetime']))\n",
        "\n",
        "# peak hours, Monday-Friday between 4PM-8PM\n",
        "data = data.withColumn('peak_hours', F.when((data['hour']>=16) & (data['hour']<20) & (data['dayofweek']!=7)&(data['dayofweek']!=0), 1).otherwise(0))\n",
        "\n",
        "# night hours, $0.5 of additional surcharge between 8PM - 6AM.\n",
        "data = data.withColumn('night_time', F.when((data['hour']>=20) | (data['hour']<6), 1).otherwise(0))"
      ],
      "metadata": {
        "id": "ODpL-ajmKijx"
      },
      "execution_count": null,
      "outputs": []
    },
    {
      "cell_type": "code",
      "source": [
        "# display data\n",
        "data.show(5)"
      ],
      "metadata": {
        "colab": {
          "base_uri": "https://localhost:8080/"
        },
        "id": "NPTfwf9f9Kg2",
        "outputId": "0b7bdded-633c-4623-99ac-3be08c7f6b3d"
      },
      "execution_count": null,
      "outputs": [
        {
          "output_type": "stream",
          "name": "stdout",
          "text": [
            "+--------------------+-----------+--------------------+----------------+---------------+-----------------+----------------+---------------+------------------+--------------------+--------------------+--------------------+-------------------+-------------------+---------+----+----------+----------+\n",
            "|                 key|fare_amount|     pickup_datetime|pickup_longitude|pickup_latitude|dropoff_longitude|dropoff_latitude|passenger_count|          distance|               d_lon|               d_lat|             lon_lat|             dev_ll|          direction|dayofweek|hour|peak_hours|night_time|\n",
            "+--------------------+-----------+--------------------+----------------+---------------+-----------------+----------------+---------------+------------------+--------------------+--------------------+--------------------+-------------------+-------------------+---------+----+----------+----------+\n",
            "|2009-06-15 17:26:...|        4.5|2009-06-15 17:26:...|      -73.844311|      40.721319|        -73.84161|       40.712278|              1|0.6404870231407276|-0.00270100000000...|0.009041000000003407|0.009435840291149038| 0.9581552592071745| 106.63352275312351|        2|  17|         1|         0|\n",
            "|2010-01-05 16:52:...|       16.9|2010-01-05 16:52:...|      -74.016048|      40.711303|       -73.979268|       40.782004|              1| 5.250669652366417|-0.03677999999999315|-0.07070099999999968| 0.07969566990119005|-0.8871372822094058| -117.4843055239611|        3|  16|         1|         0|\n",
            "|2011-08-18 00:35:...|        5.7|2011-08-18 00:35:...|      -73.982738|       40.76127|       -73.991242|       40.750562|              2|0.8634109565058572|0.008504000000002065| 0.01070800000000105|0.013674036711961017| 0.7830898969749364|  51.54436059263201|        5|   0|         0|         1|\n",
            "|2012-04-21 04:30:...|        7.7|2012-04-21 04:30:...|       -73.98713|      40.733143|       -73.991567|       40.758092|              1|1.7393859082192853|0.004437000000010016|-0.02494899999999...|0.025340472963227445|-0.9845514736920624| -79.91579072916144|        7|   4|         0|         1|\n",
            "|2010-03-09 07:51:...|        5.3|2010-03-09 07:51:...|      -73.968095|      40.768008|       -73.956655|       40.783762|              1|1.2422184522938338|-0.01144000000000...|-0.01575400000000...|0.019469517610875897|-0.8091623179816633|-125.98583182108237|        3|   7|         0|         0|\n",
            "+--------------------+-----------+--------------------+----------------+---------------+-----------------+----------------+---------------+------------------+--------------------+--------------------+--------------------+-------------------+-------------------+---------+----+----------+----------+\n",
            "only showing top 5 rows\n",
            "\n"
          ]
        }
      ]
    },
    {
      "cell_type": "code",
      "source": [
        "# coulmn and their types\n",
        "data.printSchema()"
      ],
      "metadata": {
        "colab": {
          "base_uri": "https://localhost:8080/"
        },
        "id": "E1pPDvm3AP_-",
        "outputId": "d3b4ece3-4158-4210-ce83-742e7b6b8960"
      },
      "execution_count": null,
      "outputs": [
        {
          "output_type": "stream",
          "name": "stdout",
          "text": [
            "root\n",
            " |-- key: string (nullable = true)\n",
            " |-- fare_amount: double (nullable = true)\n",
            " |-- pickup_datetime: string (nullable = true)\n",
            " |-- pickup_longitude: double (nullable = true)\n",
            " |-- pickup_latitude: double (nullable = true)\n",
            " |-- dropoff_longitude: double (nullable = true)\n",
            " |-- dropoff_latitude: double (nullable = true)\n",
            " |-- passenger_count: integer (nullable = true)\n",
            " |-- distance: double (nullable = true)\n",
            " |-- d_lon: double (nullable = true)\n",
            " |-- d_lat: double (nullable = true)\n",
            " |-- lon_lat: double (nullable = true)\n",
            " |-- dev_ll: double (nullable = true)\n",
            " |-- direction: double (nullable = true)\n",
            " |-- dayofweek: integer (nullable = true)\n",
            " |-- hour: integer (nullable = true)\n",
            " |-- peak_hours: integer (nullable = false)\n",
            " |-- night_time: integer (nullable = false)\n",
            "\n"
          ]
        }
      ]
    },
    {
      "cell_type": "code",
      "source": [
        "# split data into train and test\n",
        "(trainingData, testData) = data.randomSplit([0.8, 0.2], seed=66)"
      ],
      "metadata": {
        "id": "515SMWUiLjWB"
      },
      "execution_count": null,
      "outputs": []
    },
    {
      "cell_type": "code",
      "source": [
        "# select columns for feature\n",
        "continuous_variables = ['dayofweek',\n",
        "                        'hour',\n",
        "                        'peak_hours',\n",
        "                        'night_time',\n",
        "                        'passenger_count',\n",
        "                        'distance', 'direction']"
      ],
      "metadata": {
        "id": "BkttruhMLpWQ"
      },
      "execution_count": null,
      "outputs": []
    },
    {
      "cell_type": "code",
      "source": [
        "# create feature vector\n",
        "assembler = VectorAssembler(\n",
        "    inputCols=continuous_variables,\n",
        "    outputCol='features')"
      ],
      "metadata": {
        "id": "_--XmyJHLxiP"
      },
      "execution_count": null,
      "outputs": []
    },
    {
      "cell_type": "code",
      "source": [
        "# transform training and test data\n",
        "trainingData = assembler.setHandleInvalid(\"skip\").transform(trainingData)\n",
        "testData = assembler.setHandleInvalid(\"skip\").transform(testData)"
      ],
      "metadata": {
        "id": "-EEAsXh_L1CZ"
      },
      "execution_count": null,
      "outputs": []
    },
    {
      "cell_type": "code",
      "source": [
        "# feeding the data to the model\n",
        "dt = DecisionTreeRegressor(featuresCol='features', labelCol='fare_amount')\n",
        "# training the model\n",
        "model = dt.fit(trainingData)\n",
        "# Get predictions on test data\n",
        "predictions = model.transform(testData)"
      ],
      "metadata": {
        "id": "-Fx1jNqIMGuI"
      },
      "execution_count": null,
      "outputs": []
    },
    {
      "cell_type": "code",
      "source": [
        "print(model)"
      ],
      "metadata": {
        "colab": {
          "base_uri": "https://localhost:8080/"
        },
        "id": "OhoE0zONMvXS",
        "outputId": "eecdce01-0354-4012-8752-cdf3a5b369f9"
      },
      "execution_count": null,
      "outputs": [
        {
          "output_type": "stream",
          "name": "stdout",
          "text": [
            "DecisionTreeRegressionModel: uid=DecisionTreeRegressor_d68afb0b2a13, depth=5, numNodes=63, numFeatures=7\n"
          ]
        }
      ]
    },
    {
      "cell_type": "code",
      "source": [
        "# actual and predicted price of fare\n",
        "predictions.select(\"fare_amount\", \"prediction\").show(10)"
      ],
      "metadata": {
        "colab": {
          "base_uri": "https://localhost:8080/"
        },
        "id": "2NZdxcndjUIL",
        "outputId": "0cdfd4b5-ab4a-4015-ee6a-4398c0265bb8"
      },
      "execution_count": null,
      "outputs": [
        {
          "output_type": "stream",
          "name": "stdout",
          "text": [
            "+-----------+------------------+\n",
            "|fare_amount|        prediction|\n",
            "+-----------+------------------+\n",
            "|       15.0|14.936885980066945|\n",
            "|       29.4| 36.03643786705819|\n",
            "|        5.0| 5.462595197451484|\n",
            "|        9.4| 8.641725097292314|\n",
            "|        6.1| 7.186289182224948|\n",
            "|        9.3|12.633397702515348|\n",
            "|        7.0|  9.34923123559994|\n",
            "|       11.0|13.764855823980133|\n",
            "|        9.8|10.166884101575167|\n",
            "|        3.0| 7.186289182224948|\n",
            "+-----------+------------------+\n",
            "only showing top 10 rows\n",
            "\n"
          ]
        }
      ]
    },
    {
      "cell_type": "code",
      "source": [
        "# evalaute the model\n",
        "evaluator = RegressionEvaluator(labelCol='fare_amount',  predictionCol=\"prediction\", metricName=\"rmse\")"
      ],
      "metadata": {
        "id": "OUg_kZLkMvfn"
      },
      "execution_count": null,
      "outputs": []
    },
    {
      "cell_type": "code",
      "source": [
        "# RMSE on train  data\n",
        "rmse_train = evaluator.evaluate(model.transform(trainingData))\n",
        "print(\"Train Root Mean Squared Error (RMSE) on Train data = %g\" % rmse_train)"
      ],
      "metadata": {
        "colab": {
          "base_uri": "https://localhost:8080/"
        },
        "id": "JeVoG11SNJfI",
        "outputId": "a5089c39-2f60-4b02-e3df-02387f94a570"
      },
      "execution_count": null,
      "outputs": [
        {
          "output_type": "stream",
          "name": "stdout",
          "text": [
            "Train Root Mean Squared Error (RMSE) on Train data = 4.28243\n"
          ]
        }
      ]
    },
    {
      "cell_type": "code",
      "source": [
        "# RMSE on test  data\n",
        "rmse = evaluator.evaluate(predictions)\n",
        "print(\"Root Mean Squared Error (RMSE) on Test data = %g\" % rmse)"
      ],
      "metadata": {
        "colab": {
          "base_uri": "https://localhost:8080/"
        },
        "id": "VMgsN4iWMvkk",
        "outputId": "bed3eb2a-a3e9-458b-ccac-7734cfa3ece5"
      },
      "execution_count": null,
      "outputs": [
        {
          "output_type": "stream",
          "name": "stdout",
          "text": [
            "Root Mean Squared Error (RMSE) on Test data = 4.27636\n"
          ]
        }
      ]
    },
    {
      "cell_type": "code",
      "source": [],
      "metadata": {
        "id": "LE2LjdVKe4C0"
      },
      "execution_count": null,
      "outputs": []
    },
    {
      "cell_type": "code",
      "source": [
        "# feeding th data to the model\n",
        "lr = LinearRegression(labelCol ='fare_amount', featuresCol ='features')"
      ],
      "metadata": {
        "id": "T1gQ6N2U0fqP"
      },
      "execution_count": null,
      "outputs": []
    },
    {
      "cell_type": "code",
      "source": [
        "# training the model\n",
        "lr_model=lr.fit(trainingData)\n",
        "# predict on test data\n",
        "predictions  = lr_model.transform(testData)"
      ],
      "metadata": {
        "id": "e2lQHw-Pz9_m"
      },
      "execution_count": null,
      "outputs": []
    },
    {
      "cell_type": "code",
      "source": [
        "print(lr_model)"
      ],
      "metadata": {
        "colab": {
          "base_uri": "https://localhost:8080/"
        },
        "outputId": "49baad7b-9ba2-44c1-941a-799efe17291c",
        "id": "w1jpT3cTfO0J"
      },
      "execution_count": null,
      "outputs": [
        {
          "output_type": "stream",
          "name": "stdout",
          "text": [
            "LinearRegressionModel: uid=LinearRegression_2d76267006c2, numFeatures=7\n"
          ]
        }
      ]
    },
    {
      "cell_type": "code",
      "source": [
        "# actual and predicted price of fare\n",
        "predictions.select(\"fare_amount\", \"prediction\").show(10)"
      ],
      "metadata": {
        "colab": {
          "base_uri": "https://localhost:8080/"
        },
        "outputId": "6768d4ed-d309-4ab2-d39f-34f059e7cda7",
        "id": "cgezkUuVfO0K"
      },
      "execution_count": null,
      "outputs": [
        {
          "output_type": "stream",
          "name": "stdout",
          "text": [
            "+-----------+------------------+\n",
            "|fare_amount|        prediction|\n",
            "+-----------+------------------+\n",
            "|       15.0|13.843510302644049|\n",
            "|       29.4|30.986997976688723|\n",
            "|        5.0| 6.603662422690128|\n",
            "|        9.4| 8.350581741522502|\n",
            "|        6.1| 5.014748143668518|\n",
            "|        9.3|10.711639263427568|\n",
            "|        7.0| 9.483681622103155|\n",
            "|       11.0| 12.17150373178493|\n",
            "|        9.8| 9.504751649941397|\n",
            "|        3.0| 4.939407347690486|\n",
            "+-----------+------------------+\n",
            "only showing top 10 rows\n",
            "\n"
          ]
        }
      ]
    },
    {
      "cell_type": "code",
      "source": [
        "# evalaute the model\n",
        "evaluator = RegressionEvaluator(labelCol='fare_amount',  predictionCol=\"prediction\", metricName=\"rmse\")"
      ],
      "metadata": {
        "id": "RmBFdiNWfO0K"
      },
      "execution_count": null,
      "outputs": []
    },
    {
      "cell_type": "code",
      "source": [
        "# RMSE on train  data\n",
        "rmse_train = evaluator.evaluate(lr_model.transform(trainingData))\n",
        "print(\"Train Root Mean Squared Error (RMSE) on Train data = %g\" % rmse_train)"
      ],
      "metadata": {
        "colab": {
          "base_uri": "https://localhost:8080/"
        },
        "outputId": "20f804a6-a51e-44a2-f402-aaf38153c830",
        "id": "N8ujbs29fO0L"
      },
      "execution_count": null,
      "outputs": [
        {
          "output_type": "stream",
          "name": "stdout",
          "text": [
            "Train Root Mean Squared Error (RMSE) on Train data = 5.94224\n"
          ]
        }
      ]
    },
    {
      "cell_type": "code",
      "source": [
        "# RMSE on test data\n",
        "rmse = evaluator.evaluate(predictions)\n",
        "print(\"Root Mean Squared Error (RMSE) on Test data = %g\" % rmse)"
      ],
      "metadata": {
        "colab": {
          "base_uri": "https://localhost:8080/"
        },
        "outputId": "d6ece695-be71-406b-ff88-efe486991ae1",
        "id": "xqowVAl6fO0L"
      },
      "execution_count": null,
      "outputs": [
        {
          "output_type": "stream",
          "name": "stdout",
          "text": [
            "Root Mean Squared Error (RMSE) on Test data = 5.92657\n"
          ]
        }
      ]
    }
  ]
}